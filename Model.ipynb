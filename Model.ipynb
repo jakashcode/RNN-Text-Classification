{
 "cells": [
  {
   "cell_type": "code",
   "execution_count": 2,
   "metadata": {},
   "outputs": [
    {
     "name": "stderr",
     "output_type": "stream",
     "text": [
      "[nltk_data] Downloading package stopwords to\n",
      "[nltk_data]     C:\\Users\\akash\\AppData\\Roaming\\nltk_data...\n",
      "[nltk_data]   Package stopwords is already up-to-date!\n"
     ]
    }
   ],
   "source": [
    "import nltk\n",
    "import string\n",
    "nltk.download('stopwords')\n",
    "from nltk.corpus import stopwords"
   ]
  },
  {
   "cell_type": "code",
   "execution_count": 3,
   "metadata": {},
   "outputs": [],
   "source": [
    "import numpy as np\n",
    "\n",
    "# read data from text files\n",
    "with open('bbc-text.txt', 'r') as f:\n",
    "    reviews = f.read()\n",
    "with open('labels.txt', 'r') as f:\n",
    "    labels = f.read()"
   ]
  },
  {
   "cell_type": "code",
   "execution_count": 4,
   "metadata": {},
   "outputs": [],
   "source": [
    "from string import punctuation\n",
    "stop_words = stopwords.words('english')"
   ]
  },
  {
   "cell_type": "code",
   "execution_count": 5,
   "metadata": {},
   "outputs": [
    {
     "name": "stdout",
     "output_type": "stream",
     "text": [
      "4971235\n",
      "863841\n",
      "2226\n",
      "2225\n"
     ]
    }
   ],
   "source": [
    "from string import punctuation\n",
    "\n",
    "reviews = reviews.lower() # lowercase, standardize\n",
    "all_text = ''.join([c for c in reviews if c not in punctuation])\n",
    "print(len(all_text))\n",
    "print(len(all_text.split()))\n",
    "\n",
    "reviewss_split = all_text.split('\\n')\n",
    "reviews_split=[]\n",
    "for i in reviewss_split:\n",
    "    \n",
    "    reviews_split.append(' '.join([w for w in i.split() if w not in stop_words]))\n",
    "    \n",
    "print(len(reviews_split))\n",
    "del reviews_split[-1]\n",
    "print(len(reviews_split))"
   ]
  },
  {
   "cell_type": "code",
   "execution_count": 6,
   "metadata": {},
   "outputs": [
    {
     "data": {
      "text/plain": [
       "'buffy creator joins wonder woman creator buffy vampire slayer take new female superhero signing write direct wonder woman movie joss whedon described dc comics character iconic female heroine time way one met yet said love icons finding behind exploring price power linda carter played character 1970s tv series character wonder woman famed red gold costume born paradise island blessed powers strength flight film produced joel silver producer matrix trilogy one better joss adapt legendary wonder woman comic book character created 1940s dynamic feature film 21st century audiences said silver wonder woman first great female superhero emerge comic books later inspire millions fans television incarnation groundbreaking heroine yet reinvented feature film arena whedon created character buffy screenplay 1992 film distanced movie direction eventually took film bombed give slayer went write executive produce seven seasons cult tv series also produced spinoff angel series currently directing film serenity based shortlived scifi series firefly'"
      ]
     },
     "execution_count": 6,
     "metadata": {},
     "output_type": "execute_result"
    }
   ],
   "source": [
    "reviews_split[999]\n"
   ]
  },
  {
   "cell_type": "code",
   "execution_count": 7,
   "metadata": {},
   "outputs": [
    {
     "data": {
      "text/plain": [
       "'rapper kanye west shrewd soul us hiphop star kanye west leads race year grammys 10 nominations rose prominence producing songs artists jayz alicia keys emerged behindthescenes role become artist well producer solo career almost ended began nearfatal car crash left west jaw wired shut 2002 resulting song wire became west first uk hit april 2004 subsequent album college dropout became transatlantic success critically commercially west 26 began rapping teenager chicago school inspired beats rhymes 1980s pioneers run dmc hiphop producer id encouraged west sample old soul rb hits revive updated sound approach would become trademark feel like lot soul old records sample said hear put drums bring new millennium like god one records right blessing leaving chicago art school one year move would later inspire title album west began music career coproducing songs artists mase madd rapper drew attention superstar rapper jayz signed west rocafella record label produce numerous artists roster west work gained mainstream recognition produced singles takeover izzo hova jayz 2001 album blueprint incorporating samples five one doors jackson five want back respectively hits credited injecting soul back hiphop success attracted production work jayz 03 bonnie clyde artists ludacris stand alicia keys know name west announced plans solo album driving home latenight los angeles recording session october 2002 involved car crash left jaw fractured three places anytime hear accident heart sinks thank god still later said steering wheel could two inches would west account accident sampled chaka khan hit fire become heart completed solo album college dropout released last year turns smooth humorous sharp largely avoided clich233d hiphop preoccupation guns girls jewellery wire quickly joined uk us charts slow jamz west collaborated rapper twista ray actor jamie foxx college dropout spawned two uk hits string award nominations west shortlisted 10 grammys including nominations artist album year took best hiphop artist producer album titles last year music black origin mobo awards respected rapper producer influential field hiphop kanye west unlikely regret decision leave college early'"
      ]
     },
     "execution_count": 7,
     "metadata": {},
     "output_type": "execute_result"
    }
   ],
   "source": [
    "reviews_split[99]"
   ]
  },
  {
   "cell_type": "code",
   "execution_count": 8,
   "metadata": {},
   "outputs": [
    {
     "name": "stdout",
     "output_type": "stream",
     "text": [
      "ï»¿tv future in the hands of viewers with home theatre systems  plasma highdefinition tv\n",
      "\n",
      "es us leading trend programmes content delivered viewers via home networks cable satellite telecoms companies broadband service providers front rooms portable devices one talkedabout technologies ces digital personal video recorders dvr pvr settop boxes like us tivo uk sky system allow people record store play pause forward wind tv programmes want essentially technology allows much personalised tv\n"
     ]
    }
   ],
   "source": [
    "\n",
    "from string import punctuation\n",
    "\n",
    "# get rid of punctuation\n",
    "reviews = reviews.lower() # lowercase, standardize\n",
    "punc_text = ''.join([c for c in reviews if c not in punctuation])\n",
    "print(punc_text[:88])\n",
    "\n",
    "print()\n",
    "all_text = ' '.join([w for w in punc_text.split() if w not in stop_words])\n",
    "print(all_text[300:700])\n"
   ]
  },
  {
   "cell_type": "code",
   "execution_count": 9,
   "metadata": {},
   "outputs": [
    {
     "name": "stdout",
     "output_type": "stream",
     "text": [
      "494175\n"
     ]
    }
   ],
   "source": [
    "# create a list of words\n",
    "words = all_text.split()\n",
    "print(len(words))"
   ]
  },
  {
   "cell_type": "code",
   "execution_count": 10,
   "metadata": {},
   "outputs": [
    {
     "name": "stdout",
     "output_type": "stream",
     "text": [
      "32956\n"
     ]
    }
   ],
   "source": [
    "from collections import Counter\n",
    "\n",
    "## Build a dictionary that maps words to integers\n",
    "counts = Counter(words)\n",
    "print(len(counts))"
   ]
  },
  {
   "cell_type": "code",
   "execution_count": 11,
   "metadata": {},
   "outputs": [
    {
     "name": "stdout",
     "output_type": "stream",
     "text": [
      "2225\n"
     ]
    }
   ],
   "source": [
    "\n",
    "from collections import Counter\n",
    "\n",
    "## Build a dictionary that maps words to integers\n",
    "counts = Counter(words)\n",
    "vocab = sorted(counts, key=counts.get, reverse=True)\n",
    "vocab_to_int = {word: ii for ii, word in enumerate(vocab, 1)}\n",
    "\n",
    "## use the dict to tokenize each review in reviews_split\n",
    "## store the tokenized reviews in reviews_ints\n",
    "reviews_ints = []\n",
    "\n",
    "for review in reviews_split:\n",
    "    reviews_ints.append([vocab_to_int[word] for word in review.split()])\n",
    "print(len(reviews_ints))"
   ]
  },
  {
   "cell_type": "code",
   "execution_count": 12,
   "metadata": {},
   "outputs": [
    {
     "data": {
      "text/plain": [
       "[5474,\n",
       " 2880,\n",
       " 1089,\n",
       " 461,\n",
       " 2915,\n",
       " 854,\n",
       " 7,\n",
       " 548,\n",
       " 160,\n",
       " 2549,\n",
       " 5474,\n",
       " 665,\n",
       " 2880,\n",
       " 1089,\n",
       " 461,\n",
       " 206,\n",
       " 793,\n",
       " 347,\n",
       " 327,\n",
       " 690,\n",
       " 11,\n",
       " 8,\n",
       " 5418,\n",
       " 2296,\n",
       " 127,\n",
       " 1789,\n",
       " 5738,\n",
       " 6509,\n",
       " 3438,\n",
       " 8200,\n",
       " 32,\n",
       " 14,\n",
       " 12,\n",
       " 146,\n",
       " 57,\n",
       " 11,\n",
       " 1162,\n",
       " 32,\n",
       " 14,\n",
       " 347,\n",
       " 793,\n",
       " 589,\n",
       " 8201,\n",
       " 7576,\n",
       " 11,\n",
       " 146,\n",
       " 5475,\n",
       " 206,\n",
       " 47,\n",
       " 2296,\n",
       " 127,\n",
       " 1789,\n",
       " 3042,\n",
       " 2641,\n",
       " 1134,\n",
       " 586,\n",
       " 308,\n",
       " 693,\n",
       " 1117,\n",
       " 2549,\n",
       " 5474,\n",
       " 1679,\n",
       " 2575,\n",
       " 91,\n",
       " 66,\n",
       " 1134,\n",
       " 9,\n",
       " 348,\n",
       " 277,\n",
       " 658,\n",
       " 6502,\n",
       " 402,\n",
       " 548,\n",
       " 793,\n",
       " 14,\n",
       " 431,\n",
       " 548,\n",
       " 2402,\n",
       " 8134,\n",
       " 3622,\n",
       " 184,\n",
       " 1604,\n",
       " 793,\n",
       " 347,\n",
       " 1643,\n",
       " 8,\n",
       " 8,\n",
       " 5475,\n",
       " 206,\n",
       " 91,\n",
       " 4057,\n",
       " 1652,\n",
       " 13096,\n",
       " 1216,\n",
       " 119,\n",
       " 11271,\n",
       " 84,\n",
       " 1351,\n",
       " 4964,\n",
       " 794,\n",
       " 97,\n",
       " 32,\n",
       " 3552,\n",
       " 4566,\n",
       " 592,\n",
       " 2431,\n",
       " 91,\n",
       " 66,\n",
       " 123,\n",
       " 9,\n",
       " 66,\n",
       " 88,\n",
       " 11,\n",
       " 8202,\n",
       " 47,\n",
       " 347,\n",
       " 793,\n",
       " 7002,\n",
       " 276,\n",
       " 206,\n",
       " 111,\n",
       " 690,\n",
       " 11,\n",
       " 8,\n",
       " 278,\n",
       " 3104,\n",
       " 695,\n",
       " 13097]"
      ]
     },
     "execution_count": 12,
     "metadata": {},
     "output_type": "execute_result"
    }
   ],
   "source": [
    "reviews_ints[100]"
   ]
  },
  {
   "cell_type": "code",
   "execution_count": 13,
   "metadata": {},
   "outputs": [
    {
     "name": "stdout",
     "output_type": "stream",
     "text": [
      "Unique words:  32956\n",
      "\n",
      "Tokenized review: \n",
      " [[20564, 144, 1152, 1134, 45, 1047, 689, 5099, 1186, 4143, 119, 163, 3991, 1340, 1258, 1587, 38, 5, 880, 84, 6433, 293, 91, 18, 16, 114, 2984, 1274, 2401, 535, 382, 1200, 61, 2836, 2985, 1669, 6, 828, 701, 9, 884, 20565, 7, 615, 1492, 977, 373, 1893, 1134, 718, 45, 452, 1410, 2006, 1566, 112, 297, 100, 2630, 841, 5100, 1018, 561, 9, 20566, 828, 2453, 119, 313, 163, 3991, 8797, 5692, 4294, 3250, 26, 7, 5693, 17, 1411, 118, 408, 5, 121, 1356, 67, 4476, 457, 5362, 84, 977, 70, 6434, 73, 2007, 53, 8798, 84, 4, 4477, 1186, 84, 1894, 127, 136, 377, 7, 2909, 36, 124, 1135, 1186, 4295, 5, 457, 5362, 2986, 4, 2573, 15404, 367, 1089, 8799, 1299, 566, 20567, 699, 7, 452, 1410, 2006, 112, 1817, 371, 829, 1976, 1532, 40, 1837, 2454, 4875, 5363, 2402, 215, 7, 2512, 73, 763, 4, 1019, 1055, 124, 739, 585, 8800, 113, 26, 1411, 1733, 397, 75, 989, 98, 18, 16, 17, 3251, 20568, 32, 1379, 12853, 21, 32, 79, 324, 2274, 32, 422, 207, 1976, 1341, 304, 5364, 285, 763, 1105, 17, 2513, 1837, 5363, 256, 681, 1136, 373, 1934, 355, 367, 1934, 1, 1242, 12854, 1837, 1761, 56, 20569, 20570, 1734, 297, 1735, 3252, 1153, 373, 37, 795, 259, 2837, 329, 53, 567, 371, 1, 20571, 20572, 629, 1762, 196, 84, 3851, 84, 85, 38, 5, 317, 373, 70, 880, 15405, 84, 1134, 371, 452, 7, 829, 2402, 10, 36, 15406, 789, 507, 361, 1818, 144, 525, 20573, 116, 5, 317, 70, 880, 1120, 1089, 1452, 333, 58, 1935, 1201, 830, 77, 225, 270, 958, 67, 333, 2455, 681, 1274, 2322, 1588, 6883, 3708, 3080, 8799, 1089, 1934, 157, 351, 1493, 70, 53, 567, 93, 1152, 2, 12854, 907, 89, 3081, 20574, 2233, 8801, 92, 710, 389, 398, 1, 2, 12854, 2514, 382, 1412, 42, 70, 456, 30, 6, 958, 828, 6884, 2453, 28, 11035, 20575, 790, 1186, 84, 1894, 7441, 28, 6, 1434, 6885, 7442, 4144, 1392, 4143, 597, 8797, 3709, 1357, 525, 3992, 3250, 9, 861, 597, 61, 20576, 20577, 6885, 84, 20578, 5693, 8797, 645, 3993, 9, 7, 239, 2006, 84, 112, 20579, 86, 597, 2910, 8797, 61, 20580, 2356, 3709, 5365, 3374, 361, 5101, 39, 4476, 9772, 84, 1936, 674, 257, 101, 245, 2691, 305, 7443, 3852, 719, 3605, 5693, 201, 20581, 371, 5, 67, 1895, 977, 796, 808, 81, 561, 2987, 1300, 1492, 9773, 1567, 5, 880, 70, 70]]\n"
     ]
    }
   ],
   "source": [
    "# stats about vocabulary\n",
    "print('Unique words: ', len((vocab_to_int)))  # should ~ 74000+\n",
    "print()\n",
    "\n",
    "# print tokens in first review\n",
    "print('Tokenized review: \\n', reviews_ints[:1])"
   ]
  },
  {
   "cell_type": "code",
   "execution_count": 14,
   "metadata": {},
   "outputs": [
    {
     "name": "stdout",
     "output_type": "stream",
     "text": [
      "2226\n",
      "2225\n",
      "tech\n",
      "2225\n",
      "[3]\n"
     ]
    }
   ],
   "source": [
    "# label conversion\n",
    "labels_split = labels.split('\\n')\n",
    "print(len(labels_split))\n",
    "del labels_split[-1]\n",
    "print(len(labels_split))\n",
    "print((labels_split[0]))\n",
    "\n",
    "\n",
    "encoded_labels = np.array([0 if label == 'sport' else 1 if label == 'business'  else 2 if label == 'politics'   else 3 if label == 'tech'  else 4 for label in labels_split])\n",
    "\n",
    "print(len(encoded_labels))\n",
    "print(encoded_labels[:1])"
   ]
  },
  {
   "cell_type": "code",
   "execution_count": 15,
   "metadata": {},
   "outputs": [
    {
     "name": "stdout",
     "output_type": "stream",
     "text": [
      "Zero-length reviews: 0\n",
      "Maximum review length: 2214\n"
     ]
    }
   ],
   "source": [
    "# outlier review stats\n",
    "review_lens = Counter([len(x) for x in reviews_ints])\n",
    "print(\"Zero-length reviews: {}\".format(review_lens[0]))\n",
    "print(\"Maximum review length: {}\".format(max(review_lens)))"
   ]
  },
  {
   "cell_type": "markdown",
   "metadata": {},
   "source": [
    "First, remove any text with zero length from the reviews_ints list and their corresponding label in encoded_labels.\n",
    "\n"
   ]
  },
  {
   "cell_type": "code",
   "execution_count": 16,
   "metadata": {},
   "outputs": [
    {
     "name": "stdout",
     "output_type": "stream",
     "text": [
      "Number of reviews before removing outliers:  2225\n",
      "Number of reviews after removing outliers:  2225\n"
     ]
    }
   ],
   "source": [
    "print('Number of reviews before removing outliers: ', len(reviews_ints))\n",
    "\n",
    "## remove any reviews/labels with zero length from the reviews_ints list.\n",
    "\n",
    "# get indices of any reviews with length 0\n",
    "non_zero_idx = [ii for ii, review in enumerate(reviews_ints) if len(review) != 0]\n",
    "\n",
    "# remove 0-length reviews and their labels\n",
    "reviews_ints = [reviews_ints[ii] for ii in non_zero_idx]\n",
    "encoded_labels = np.array([encoded_labels[ii] for ii in non_zero_idx])\n",
    "\n",
    "print('Number of reviews after removing outliers: ', len(reviews_ints))"
   ]
  },
  {
   "cell_type": "code",
   "execution_count": 17,
   "metadata": {},
   "outputs": [],
   "source": [
    "def pad_features(reviews_ints, seq_length):\n",
    "    ''' Return features of review_ints, where each review is padded with 0's \n",
    "        or truncated to the input seq_length.\n",
    "    '''\n",
    "    \n",
    "    # getting the correct rows x cols shape\n",
    "    features = np.zeros((len(reviews_ints), seq_length), dtype=int)\n",
    "\n",
    "    # for each review, I grab that review and \n",
    "    for i, row in enumerate(reviews_ints):\n",
    "        features[i, -len(row):] = np.array(row)[:seq_length]\n",
    "    \n",
    "    return features"
   ]
  },
  {
   "cell_type": "code",
   "execution_count": 18,
   "metadata": {},
   "outputs": [
    {
     "name": "stdout",
     "output_type": "stream",
     "text": [
      "2225\n",
      "[20564   144  1152  1134    45  1047   689  5099  1186  4143   119   163\n",
      "  3991  1340  1258  1587    38     5   880    84  6433   293    91    18\n",
      "    16   114  2984  1274  2401   535   382  1200    61  2836  2985  1669\n",
      "     6   828   701     9   884 20565     7   615  1492   977   373  1893\n",
      "  1134   718    45   452  1410  2006  1566   112   297   100  2630   841\n",
      "  5100  1018   561     9 20566   828  2453   119   313   163  3991  8797\n",
      "  5692  4294  3250    26     7  5693    17  1411   118   408     5   121\n",
      "  1356    67  4476   457  5362    84   977    70  6434    73  2007    53\n",
      "  8798    84     4  4477  1186    84  1894   127   136   377     7  2909\n",
      "    36   124  1135  1186  4295     5   457  5362  2986     4  2573 15404\n",
      "   367  1089  8799  1299   566 20567   699     7   452  1410  2006   112\n",
      "  1817   371   829  1976  1532    40  1837  2454  4875  5363  2402   215\n",
      "     7  2512    73   763     4  1019  1055   124   739   585  8800   113\n",
      "    26  1411  1733   397    75   989    98    18    16    17  3251 20568\n",
      "    32  1379 12853    21    32    79   324  2274    32   422   207  1976\n",
      "  1341   304  5364   285   763  1105    17  2513  1837  5363   256   681\n",
      "  1136   373  1934   355   367  1934     1  1242]\n"
     ]
    }
   ],
   "source": [
    "# Testing the implementation!\n",
    "\n",
    "seq_length = 200\n",
    "\n",
    "features = pad_features(reviews_ints, seq_length=seq_length)\n",
    "#print(features[:1])\n",
    "#print(len(features))\n",
    "\n",
    "## test statements - do not change - ##\n",
    "assert len(features)==len(reviews_ints), \"Your features should have as many rows as reviews.\"\n",
    "assert len(features[0])==seq_length, \"Each feature row should contain seq_length values.\"\n",
    "\n",
    "print(len(features))\n",
    "print((features[0]))\n",
    "\n"
   ]
  },
  {
   "cell_type": "code",
   "execution_count": 19,
   "metadata": {},
   "outputs": [
    {
     "name": "stdout",
     "output_type": "stream",
     "text": [
      "\t\t\tFeature Shapes:\n",
      "Train set: \t\t(1557, 200) \n",
      "Validation set: \t(334, 200) \n",
      "Test set: \t\t(334, 200)\n"
     ]
    }
   ],
   "source": [
    "split_frac = 0.7\n",
    "\n",
    "## split data into training, validation, and test data (features and labels, x and y)\n",
    "\n",
    "split_idx = int(len(features)*split_frac)\n",
    "train_x, remaining_x = features[:split_idx], features[split_idx:]\n",
    "train_y, remaining_y = encoded_labels[:split_idx], encoded_labels[split_idx:]\n",
    "\n",
    "test_idx = int(len(remaining_x)*0.5)\n",
    "val_x, test_x = remaining_x[:test_idx], remaining_x[test_idx:]\n",
    "val_y, test_y = remaining_y[:test_idx], remaining_y[test_idx:]\n",
    "\n",
    "## print out the shapes of  resultant feature data\n",
    "print(\"\\t\\t\\tFeature Shapes:\")\n",
    "print(\"Train set: \\t\\t{}\".format(train_x.shape), \n",
    "      \"\\nValidation set: \\t{}\".format(val_x.shape),\n",
    "      \"\\nTest set: \\t\\t{}\".format(test_x.shape))"
   ]
  },
  {
   "cell_type": "markdown",
   "metadata": {},
   "source": [
    "DataLoaders and Batching\n",
    "After creating training, test, and validation data, we can create DataLoaders for this data by following two steps:\n",
    "\n",
    "Create a known format for accessing our data, using TensorDataset which takes in an input set of data and a target set of data with the same first dimension, and creates a dataset.\n",
    "Create DataLoaders and batch our training, validation, and test Tensor datasets.\n",
    "train_data = TensorDataset(torch.from_numpy(train_x), torch.from_numpy(train_y))\n",
    "train_loader = DataLoader(train_data, batch_size=batch_size)\n",
    "This is an alternative to creating a generator function for batching our data into full batches."
   ]
  },
  {
   "cell_type": "code",
   "execution_count": 20,
   "metadata": {},
   "outputs": [],
   "source": [
    "import torch\n",
    "from torch.utils.data import TensorDataset, DataLoader\n",
    "\n",
    "# create Tensor datasets\n",
    "train_data = TensorDataset(torch.from_numpy(train_x), torch.from_numpy(train_y))\n",
    "valid_data = TensorDataset(torch.from_numpy(val_x), torch.from_numpy(val_y))\n",
    "test_data = TensorDataset(torch.from_numpy(test_x), torch.from_numpy(test_y))\n",
    "\n",
    "# dataloaders\n",
    "batch_size = 5\n",
    "\n",
    "# make sure the SHUFFLE your training data\n",
    "train_loader = DataLoader(train_data, shuffle=True, batch_size=batch_size)\n",
    "valid_loader = DataLoader(valid_data, shuffle=True, batch_size=batch_size)\n",
    "test_loader = DataLoader(test_data, shuffle=True, batch_size=batch_size)"
   ]
  },
  {
   "cell_type": "code",
   "execution_count": 21,
   "metadata": {},
   "outputs": [
    {
     "name": "stdout",
     "output_type": "stream",
     "text": [
      "Sample input size:  torch.Size([5, 200])\n",
      "Sample input: \n",
      " tensor([[    0,     0,     0,     0,     0,     0,     0,     0,     0,     0,\n",
      "             0,     0,     0,     0,     0,     0,     0,     0,     0,     0,\n",
      "             0,     0,     0,     0,     0,     0,     0,     0,     0,     0,\n",
      "             0,     0,     0,     0,     0,     0,     0,     0,     0,     0,\n",
      "             0,     0,   836,   301,  1169,  7945,   255,   503,    42,  7945,\n",
      "           184,   239,  3899,   146,    83,  3525,   179,   301,  3762,  1212,\n",
      "           836,   564,   154,  2031,     1,    87,   571,  5383,   426,  1901,\n",
      "          8710, 18296, 13557,  4756,   116,   267,  1069,   409,   438,  7945,\n",
      "           503,   652,  1170,   415, 25230,  2926,  3885,  3619,     6,     8,\n",
      "         25231,  1991,  6464,  2855,    57,   836,   160,  1539,   217,  2179,\n",
      "          1295,   112,  1025,  2476,  1195,   215,   890,   310,   431, 25232,\n",
      "           409,   178,   501,    30,     5,   948,  1904,  2031,    83,  5858,\n",
      "          5512,  5381,   137,  3240,   419,    15,     1,  4059,  2933,  3762,\n",
      "           383, 25233,  6120,  5419,    53, 25234,  7394,   836,   276,  1901,\n",
      "          8710, 13894,  8169,  1486,   887,  1387,   301,    10, 25235,  4174,\n",
      "           571,  1265,   409,  5784,   104,    69, 15644,  9912,    21,  1989,\n",
      "          1373,   149,    85,  8163,   203,    87,  3312, 25236,  8710,  1884,\n",
      "           241,   111,   712,   490,  5558,  5383,   392,  2205,     2,  9912,\n",
      "             1,   460,   853,    69,  9615,  9616,     1,   306,  1373,   149,\n",
      "            92,   486,  8161,  5383, 11907,   203,   281,   323,   327,   206],\n",
      "        [    0,     0,     0,     0,     0,     0,     0,     0,     0,     0,\n",
      "             0,     0,     0,     0,     0,     0,     0,     0,     0,     0,\n",
      "             0,     0,     0,     0,     0,     0,     0,     0,     0,     0,\n",
      "             0,     0,     0,     0,     0,     0,     0,     0,     0,     0,\n",
      "             0,     0,     0,     0,     0,     0,     0,     0,     0,     0,\n",
      "             0,     0,     0,     0,     0,     0,     0,     0,  4860,   228,\n",
      "          2906,  4134,    25,   460,   572,  7948,  4860,   228,   160,    25,\n",
      "          7577,    67,  1814,   332,    25,  3620,  2906,  4134,  1086,   491,\n",
      "           556,   477,  3380,    95,  3949,  1892,  1838,  6700,   150,     4,\n",
      "           637,  1897,  3857,  4860,    67,  3857, 14211,  1747,   114,  2669,\n",
      "          2599,   278,  1275,   219,  5402,  1838,  9298,  7832,  7832,     4,\n",
      "          1358,  3950,  4860,  7577,   468,   597,   572,  2493,     4,  3275,\n",
      "           332,   254, 17477,    25,  4612,  1180,   358,   586,  4882,   109,\n",
      "          6700,   150,  3464,  4860,    68, 10372,   460,   572,   127,   527,\n",
      "           849,   228,    17,   572,  2822, 17478,   816,  1664,  2269,   254,\n",
      "          1294, 14212, 14213, 12135, 14214,  3689,  2215,   556,   450,   354,\n",
      "           920,    66,  1226,  5628,   430,  3838,  2920,  6701,  9482, 10627,\n",
      "         10628,  3747,  1890, 14215,  1863,  1380,  1892,   476,   679,  4591,\n",
      "          5737,    36,   128, 12136,   767,  1996,   491,  2186,   556,  1109,\n",
      "         17479,  1241,   241,   569,    43,  1345,   712,   168,   833,   156],\n",
      "        [    0,     0,     0,     0,     0,     0,     0,     0,     0,     0,\n",
      "             0,     0,     0,     0,     0,     0,     0,     0,     0,     0,\n",
      "             0,     0,     0,     0,     0,     0,     0,     0,     0,     0,\n",
      "             0,     0,     0,     0,     0,     0,     0,     0,     0,     0,\n",
      "             0,     0,     0,     0,     0,     0,     0,     0,     0,     0,\n",
      "             0,     0,     0,     0,     0,     0,     0,     0,     0,     0,\n",
      "             0,     0,     0,     0,     0,     0,     0,     0,     0,     0,\n",
      "             0,     0,     0,     0,     0,     0,     0,     0,     0,     0,\n",
      "             0,     0,     0,     0,     0,     0,     0,     0,     0,     0,\n",
      "             0,     0,     0,     0,     0,     0,     0,     0,     0,     0,\n",
      "             0,     0,     0,     0,     0,     0,     0,     0,     0,     0,\n",
      "             0,     0,     0,     0,     0,     0,     0,     0,     0,     0,\n",
      "             0,     0,     0,     0,  1732,  1658,   560,   428,  5562,   576,\n",
      "           591,  4253,  1732,  5583,  1659,  1402,   579,   668,   560,   149,\n",
      "          1944,   109,  5284, 13502,  2057,   484,     6, 11605,  1228,  2508,\n",
      "          1732,   243,   319,   108,  2613,   143, 13502,    21,    32,   517,\n",
      "          2015,   784,   560,   414,    18,  4253, 11606,   554,  2823,  1668,\n",
      "          2364,   282, 13502,    37, 11607,  1837,     6,  1228,   151,   262,\n",
      "          9858,   137,  2202,     6,  9858,   151,  3056,  2252,   137,  1739,\n",
      "         13503,  1228,     1,   256,  4208,  1402,   151,   128,   913,  1228],\n",
      "        [    0,     0,     0,     0,     0,     0,   453,  7112,    55,  1966,\n",
      "           251,   453,   349,   543,    72, 21529,   535,   198,   455,  3670,\n",
      "           993,   251,   225,  1854,   590,  5827,  2107,    46,  1225, 16084,\n",
      "           251,   455,  3670,   734,  1250,   453, 21530, 16085,  2506,  5007,\n",
      "          3039,  2946,  1200,   568,   441,   282,   475,  3064,  1307,  1713,\n",
      "         13323,  1881,    36, 10136,   596,  8302,    79,  1400,  1455,   455,\n",
      "          3670,     1,   449,   453,   590,   665,    36,  1966,   251,     1,\n",
      "           453, 21531,  7672, 21532,   191,   218, 21533,   878, 10137,  2923,\n",
      "          1563,  1225,   473,   304,   453,   590,   665,   685, 16085, 16086,\n",
      "          2041,   195, 21534,   191,  4390,     2,  8302,     1,   453,  5886,\n",
      "           195,   878,  2923, 16086,   179,   816,  6228,   144,    45,   808,\n",
      "            44,     4,   210,     9,    12,    63,  8303, 21535,   590,   320,\n",
      "         21536,     6,    73,   453,   253,  4083, 16087,   129,  2669,  3131,\n",
      "             1,     2,  8302,   198,   770,   455,  3670,   734,  7113,   685,\n",
      "             9, 21537, 21538, 21539,   119,  1046,   436,  2338,  1000,   257,\n",
      "           191,   218,    94,   148,   251,   436,   141,     8,  4796,  2640,\n",
      "           455,  3670,   198,  7114,  2592,    14,  6095,    12,  1629,   993,\n",
      "          2385,  8267,    74,  1163,  2600,     2,  8302,     1,   817,    30,\n",
      "             5,  1163, 11475,   100,   198,  1486,    28,   135,  5734,  1859,\n",
      "           163,   773,  3140,  1429,  1911,   251,   164, 11476,     8, 21540],\n",
      "        [   81,   997,   319,  2496,    28,   214,   436,  1046,  1009,  3795,\n",
      "          6115,   520,     3,    19,  3259,  1684,    81,   145,  1046,  1357,\n",
      "           859,   117, 15522,  5888,   181,  1733,    92, 19730, 28773,  1350,\n",
      "          2599,  1261, 12755,  2685,    79,  2228,  3259,  2114,  6328,  8626,\n",
      "            16,  7138,  3744,   333,  2555,   289,    43,   253,   381,     6,\n",
      "          8361,    81,   145,  9585,   213,   813,   631,   499,    92,     9,\n",
      "          6963,   767,  2014,  7735,  6328,  1046,   339,   116,  3795,  3744,\n",
      "            67,    10,   155,  1492,  1647,   500,  3038,   145,  1293,   210,\n",
      "          3021,   163,   339,  3795,   881,     5,   155,  3480,   958,   129,\n",
      "            11,    65,    13,   191,  2430,  3806,  2183,    25,  1369, 10573,\n",
      "          1407,  5341,  8188,   213,  1064,    25,  3372,  1403,     9,   130,\n",
      "           221,   985, 19731,  1097,  5543,   767,   743,    79,  1121,   997,\n",
      "           349,    81,   145,     2,  1407,  5341,   799,  2652,  1904,   997,\n",
      "           843,     1,   985, 19731,  1666,  1455,  1013, 28774,  1003,   997,\n",
      "           145,   120, 19503,    79,  1206,   335,  2046,  2712, 28775,  1922,\n",
      "           746,   129,  1056,   148,   997,  3039,  3510,  1366,  3973,   148,\n",
      "          5212,   491,  1910,  1097,  5302, 19377,    14, 14886,  9873,   142,\n",
      "          5295,  5000,  1615,   959,  1346,  3325,   980,  1848,   491,  6683,\n",
      "          2569,  1457, 28776, 28777,  1562,   191,  2532, 12755,  2228,   373,\n",
      "          2517,     5,     4, 15172,  9565,   462,   164,  3738,  7762,   201]],\n",
      "       dtype=torch.int32)\n",
      "\n",
      "Sample label size:  torch.Size([5])\n",
      "Sample label: \n",
      " tensor([1, 4, 0, 3, 3], dtype=torch.int32)\n"
     ]
    }
   ],
   "source": [
    "# obtain one batch of training data\n",
    "dataiter = iter(train_loader)\n",
    "sample_x, sample_y = dataiter.next()\n",
    "\n",
    "print('Sample input size: ', sample_x.size()) # batch_size, seq_length\n",
    "print('Sample input: \\n', sample_x)\n",
    "print()\n",
    "print('Sample label size: ', sample_y.size()) # batch_size\n",
    "print('Sample label: \\n', sample_y)"
   ]
  },
  {
   "cell_type": "code",
   "execution_count": 22,
   "metadata": {},
   "outputs": [
    {
     "name": "stdout",
     "output_type": "stream",
     "text": [
      "Training on GPU.\n"
     ]
    }
   ],
   "source": [
    "import torch\n",
    "# First checking if GPU is available\n",
    "train_on_gpu=torch.cuda.is_available()\n",
    "\n",
    "if(train_on_gpu):\n",
    "    print('Training on GPU.')\n",
    "else:\n",
    "    print('No GPU available, training on CPU.')"
   ]
  },
  {
   "cell_type": "code",
   "execution_count": 27,
   "metadata": {},
   "outputs": [],
   "source": [
    "import torch.nn as nn\n",
    "\n",
    "class SentimentRNN(nn.Module):\n",
    "    \"\"\"\n",
    "    The RNN model that will be used to perform Text Classification.\n",
    "    \"\"\"\n",
    "        \n",
    "    def __init__(self, vocab_size, output_size, embedding_dim, hidden_dim, n_layers, drop_prob=0.5):\n",
    "        \"\"\"\n",
    "        Initialize the model by setting up the layers.\n",
    "        \"\"\"\n",
    "        super(SentimentRNN, self).__init__()\n",
    "\n",
    "        self.output_size = output_size\n",
    "        self.n_layers = n_layers\n",
    "        self.hidden_dim = hidden_dim\n",
    "        \n",
    "        # embedding and LSTM layers\n",
    "        self.embedding = nn.Embedding(vocab_size, embedding_dim)\n",
    "        self.lstm = nn.LSTM(embedding_dim, hidden_dim, n_layers, \n",
    "                            dropout=drop_prob, batch_first=True)\n",
    "        \n",
    "        # dropout layer\n",
    "        self.dropout = nn.Dropout(0.3)\n",
    "        \n",
    "        # linear and sigmoid layers\n",
    "        self.fc = nn.Linear(hidden_dim, output_size)\n",
    "        self.sof = nn.LogSoftmax(dim=1)\n",
    "        \n",
    "\n",
    "    def forward(self, x, hidden):\n",
    "        \"\"\"\n",
    "        Perform a forward pass of the model on some input and hidden state.\n",
    "        \"\"\"\n",
    "        batch_size = x.size(0)\n",
    "\n",
    "        # embeddings and lstm_out\n",
    "        x = x.long()\n",
    "        embeds = self.embedding(x)\n",
    "        lstm_out, hidden = self.lstm(embeds, hidden)\n",
    "    \n",
    "        # stack up lstm outputs\n",
    "        lstm_out = lstm_out.contiguous().view(-1, self.hidden_dim)\n",
    "        \n",
    "        # dropout and fully-connected layer\n",
    "        out = self.dropout(lstm_out)\n",
    "        out = self.fc(out)\n",
    "        # logSoftmax\n",
    "        sof_out = self.sof(out)\n",
    "        \n",
    "        # reshape to be batch_size first\n",
    "        sof_out = sof_out.view(batch_size, -1)\n",
    "        sof_out = sof_out[:,-5:] # get last 5 class batch of labels\n",
    "        \n",
    "        # return last softmax output and hidden state\n",
    "        return sof_out, hidden\n",
    "        \n",
    "        \n",
    "        \n",
    "    \n",
    "    def init_hidden(self, batch_size):\n",
    "        ''' Initializes hidden state '''\n",
    "        # Create two new tensors with sizes n_layers x batch_size x hidden_dim,\n",
    "        # initialized to zero, for hidden state and cell state of LSTM\n",
    "        weight = next(self.parameters()).data\n",
    "        \n",
    "        if (train_on_gpu):\n",
    "            hidden = (weight.new(self.n_layers, batch_size, self.hidden_dim).zero_().cuda(),\n",
    "                  weight.new(self.n_layers, batch_size, self.hidden_dim).zero_().cuda())\n",
    "        else:\n",
    "            hidden = (weight.new(self.n_layers, batch_size, self.hidden_dim).zero_(),\n",
    "                      weight.new(self.n_layers, batch_size, self.hidden_dim).zero_())\n",
    "        \n",
    "        return hidden"
   ]
  },
  {
   "cell_type": "code",
   "execution_count": 28,
   "metadata": {},
   "outputs": [
    {
     "name": "stdout",
     "output_type": "stream",
     "text": [
      "SentimentRNN(\n",
      "  (embedding): Embedding(32957, 200)\n",
      "  (lstm): LSTM(200, 256, num_layers=2, batch_first=True, dropout=0.5)\n",
      "  (dropout): Dropout(p=0.3, inplace=False)\n",
      "  (fc): Linear(in_features=256, out_features=5, bias=True)\n",
      "  (sof): LogSoftmax()\n",
      ")\n"
     ]
    }
   ],
   "source": [
    "# Instantiate the model w/ hyperparams\n",
    "vocab_size = len(vocab_to_int)+1 # +1 for the 0 padding + our word tokens\n",
    "output_size = 5\n",
    "embedding_dim = 200\n",
    "hidden_dim = 256\n",
    "n_layers = 2\n",
    "\n",
    "net = SentimentRNN(vocab_size, output_size, embedding_dim, hidden_dim, n_layers)\n",
    "\n",
    "print(net)"
   ]
  },
  {
   "cell_type": "code",
   "execution_count": 29,
   "metadata": {},
   "outputs": [],
   "source": [
    "# loss and optimization functions\n",
    "lr=0.001\n",
    "\n",
    "criterion = nn.NLLLoss()\n",
    "optimizer = torch.optim.Adam(net.parameters(), lr=lr)\n"
   ]
  },
  {
   "cell_type": "code",
   "execution_count": 30,
   "metadata": {},
   "outputs": [
    {
     "name": "stdout",
     "output_type": "stream",
     "text": [
      "Training - Input Shape Issue: torch.Size([2, 200])\n",
      "Validation - Input Shape Issue: torch.Size([4, 200])\n",
      "Epoch: 1/30..  Training Loss: 1.480..  Test Loss: 1.695..  Test Accuracy: 0.260\n",
      "Validation loss decreased (inf --> 113.540260).  Saving model ...\n",
      "Training - Input Shape Issue: torch.Size([2, 200])\n",
      "Validation - Input Shape Issue: torch.Size([4, 200])\n",
      "Epoch: 2/30..  Training Loss: 1.107..  Test Loss: 1.133..  Test Accuracy: 0.624\n",
      "Validation loss decreased (113.540260 --> 75.890762).  Saving model ...\n",
      "Training - Input Shape Issue: torch.Size([2, 200])\n",
      "Validation - Input Shape Issue: torch.Size([4, 200])\n",
      "Epoch: 3/30..  Training Loss: 0.538..  Test Loss: 0.800..  Test Accuracy: 0.737\n",
      "Validation loss decreased (75.890762 --> 53.606377).  Saving model ...\n",
      "Training - Input Shape Issue: torch.Size([2, 200])\n",
      "Validation - Input Shape Issue: torch.Size([4, 200])\n",
      "Epoch: 4/30..  Training Loss: 0.214..  Test Loss: 0.910..  Test Accuracy: 0.746\n",
      "Training - Input Shape Issue: torch.Size([2, 200])\n",
      "Validation - Input Shape Issue: torch.Size([4, 200])\n",
      "Epoch: 5/30..  Training Loss: 0.098..  Test Loss: 0.946..  Test Accuracy: 0.713\n",
      "Training - Input Shape Issue: torch.Size([2, 200])\n",
      "Validation - Input Shape Issue: torch.Size([4, 200])\n",
      "Epoch: 6/30..  Training Loss: 0.032..  Test Loss: 0.955..  Test Accuracy: 0.752\n",
      "Training - Input Shape Issue: torch.Size([2, 200])\n",
      "Validation - Input Shape Issue: torch.Size([4, 200])\n",
      "Epoch: 7/30..  Training Loss: 0.007..  Test Loss: 0.987..  Test Accuracy: 0.743\n",
      "Training - Input Shape Issue: torch.Size([2, 200])\n",
      "Validation - Input Shape Issue: torch.Size([4, 200])\n",
      "Epoch: 8/30..  Training Loss: 0.003..  Test Loss: 1.021..  Test Accuracy: 0.767\n",
      "Training - Input Shape Issue: torch.Size([2, 200])\n",
      "Validation - Input Shape Issue: torch.Size([4, 200])\n",
      "Epoch: 9/30..  Training Loss: 0.001..  Test Loss: 1.038..  Test Accuracy: 0.764\n",
      "Training - Input Shape Issue: torch.Size([2, 200])\n",
      "Validation - Input Shape Issue: torch.Size([4, 200])\n",
      "Epoch: 10/30..  Training Loss: 0.000..  Test Loss: 1.041..  Test Accuracy: 0.773\n",
      "Training - Input Shape Issue: torch.Size([2, 200])\n",
      "Validation - Input Shape Issue: torch.Size([4, 200])\n",
      "Epoch: 11/30..  Training Loss: 0.000..  Test Loss: 1.045..  Test Accuracy: 0.776\n",
      "Training - Input Shape Issue: torch.Size([2, 200])\n",
      "Validation - Input Shape Issue: torch.Size([4, 200])\n",
      "Epoch: 12/30..  Training Loss: 0.000..  Test Loss: 1.041..  Test Accuracy: 0.797\n",
      "Training - Input Shape Issue: torch.Size([2, 200])\n",
      "Validation - Input Shape Issue: torch.Size([4, 200])\n",
      "Epoch: 13/30..  Training Loss: 0.000..  Test Loss: 1.074..  Test Accuracy: 0.797\n",
      "Training - Input Shape Issue: torch.Size([2, 200])\n",
      "Validation - Input Shape Issue: torch.Size([4, 200])\n",
      "Epoch: 14/30..  Training Loss: 0.000..  Test Loss: 1.062..  Test Accuracy: 0.797\n",
      "Training - Input Shape Issue: torch.Size([2, 200])\n",
      "Validation - Input Shape Issue: torch.Size([4, 200])\n",
      "Epoch: 15/30..  Training Loss: 0.000..  Test Loss: 1.121..  Test Accuracy: 0.794\n",
      "Training - Input Shape Issue: torch.Size([2, 200])\n",
      "Validation - Input Shape Issue: torch.Size([4, 200])\n",
      "Epoch: 16/30..  Training Loss: 0.000..  Test Loss: 1.113..  Test Accuracy: 0.803\n",
      "Training - Input Shape Issue: torch.Size([2, 200])\n",
      "Validation - Input Shape Issue: torch.Size([4, 200])\n",
      "Epoch: 17/30..  Training Loss: 0.000..  Test Loss: 1.144..  Test Accuracy: 0.806\n",
      "Training - Input Shape Issue: torch.Size([2, 200])\n",
      "Validation - Input Shape Issue: torch.Size([4, 200])\n",
      "Epoch: 18/30..  Training Loss: 0.000..  Test Loss: 1.156..  Test Accuracy: 0.803\n",
      "Training - Input Shape Issue: torch.Size([2, 200])\n",
      "Validation - Input Shape Issue: torch.Size([4, 200])\n",
      "Epoch: 19/30..  Training Loss: 0.000..  Test Loss: 1.202..  Test Accuracy: 0.803\n",
      "Training - Input Shape Issue: torch.Size([2, 200])\n",
      "Validation - Input Shape Issue: torch.Size([4, 200])\n",
      "Epoch: 20/30..  Training Loss: 0.000..  Test Loss: 1.183..  Test Accuracy: 0.815\n",
      "Training - Input Shape Issue: torch.Size([2, 200])\n",
      "Validation - Input Shape Issue: torch.Size([4, 200])\n",
      "Epoch: 21/30..  Training Loss: 0.000..  Test Loss: 1.126..  Test Accuracy: 0.821\n",
      "Training - Input Shape Issue: torch.Size([2, 200])\n",
      "Validation - Input Shape Issue: torch.Size([4, 200])\n",
      "Epoch: 22/30..  Training Loss: 0.000..  Test Loss: 1.193..  Test Accuracy: 0.815\n",
      "Training - Input Shape Issue: torch.Size([2, 200])\n",
      "Validation - Input Shape Issue: torch.Size([4, 200])\n",
      "Epoch: 23/30..  Training Loss: 0.000..  Test Loss: 1.219..  Test Accuracy: 0.818\n",
      "Training - Input Shape Issue: torch.Size([2, 200])\n",
      "Validation - Input Shape Issue: torch.Size([4, 200])\n",
      "Epoch: 24/30..  Training Loss: 0.000..  Test Loss: 1.213..  Test Accuracy: 0.824\n",
      "Training - Input Shape Issue: torch.Size([2, 200])\n",
      "Validation - Input Shape Issue: torch.Size([4, 200])\n",
      "Epoch: 25/30..  Training Loss: 0.000..  Test Loss: 1.240..  Test Accuracy: 0.815\n",
      "Training - Input Shape Issue: torch.Size([2, 200])\n",
      "Validation - Input Shape Issue: torch.Size([4, 200])\n",
      "Epoch: 26/30..  Training Loss: 0.000..  Test Loss: 1.256..  Test Accuracy: 0.815\n",
      "Training - Input Shape Issue: torch.Size([2, 200])\n",
      "Validation - Input Shape Issue: torch.Size([4, 200])\n",
      "Epoch: 27/30..  Training Loss: 0.000..  Test Loss: 1.274..  Test Accuracy: 0.821\n",
      "Training - Input Shape Issue: torch.Size([2, 200])\n",
      "Validation - Input Shape Issue: torch.Size([4, 200])\n",
      "Epoch: 28/30..  Training Loss: 0.000..  Test Loss: 1.302..  Test Accuracy: 0.830\n",
      "Training - Input Shape Issue: torch.Size([2, 200])\n",
      "Validation - Input Shape Issue: torch.Size([4, 200])\n",
      "Epoch: 29/30..  Training Loss: 0.000..  Test Loss: 1.314..  Test Accuracy: 0.824\n",
      "Training - Input Shape Issue: torch.Size([2, 200])\n",
      "Validation - Input Shape Issue: torch.Size([4, 200])\n",
      "Epoch: 30/30..  Training Loss: 0.000..  Test Loss: 1.353..  Test Accuracy: 0.830\n"
     ]
    }
   ],
   "source": [
    "# training params\n",
    "\n",
    "epochs =30 # 3-4 is approx where I noticed the validation loss stop decreasing\n",
    "# initialize tracker for minimum validation loss\n",
    "val_loss_min = np.Inf # set initial \"min\" to infinity\n",
    "\n",
    "\n",
    "val_losses, train_losses = [] , []\n",
    "clip=5 # gradient clipping\n",
    "\n",
    "# move model to GPU, if available\n",
    "if(train_on_gpu):\n",
    "    net.cuda()\n",
    "\n",
    "net.train()\n",
    "# train for some number of epochs\n",
    "for e in range(epochs):\n",
    "    running_loss=0\n",
    "    # initialize hidden state\n",
    "    h = net.init_hidden(batch_size)\n",
    "\n",
    "    # batch loop\n",
    "    for inputs, labels in train_loader:\n",
    "        if( (inputs.shape[0],inputs.shape[1]) != (batch_size,seq_length)):\n",
    "            print('Training - Input Shape Issue:',inputs.shape)\n",
    "            continue\n",
    "      \n",
    "\n",
    "        if(train_on_gpu):\n",
    "            inputs, labels = inputs.to('cuda'), labels.to('cuda')\n",
    "\n",
    "        # Creating new variables for the hidden state, otherwise\n",
    "        # we'd backprop through the entire training history\n",
    "        h = tuple([each.data for each in h])\n",
    "\n",
    "        # zero accumulated gradients\n",
    "        net.zero_grad()\n",
    "\n",
    "        # get the output from the model\n",
    "        output, h = net(inputs, h)\n",
    "\n",
    "        # calculate the loss and perform backprop\n",
    "        loss = criterion(output.squeeze(), labels.long())\n",
    "        running_loss += criterion(output.squeeze(), labels.long())\n",
    "        loss.backward()\n",
    "        \n",
    "        \n",
    "        # `clip_grad_norm` helps prevent the exploding gradient problem in RNNs / LSTMs.\n",
    "        nn.utils.clip_grad_norm_(net.parameters(), clip)\n",
    "        optimizer.step()\n",
    "        \n",
    "        \n",
    "        \n",
    "    else:\n",
    "        \n",
    "        val_loss=0\n",
    "        accuracy = 0\n",
    "        val_h = net.init_hidden(batch_size)\n",
    "        \n",
    "        \n",
    "        with torch.no_grad():\n",
    "            net.eval()\n",
    "            \n",
    "            for inputs, labels in valid_loader:\n",
    "                if( (inputs.shape[0],inputs.shape[1]) != (batch_size,seq_length)):\n",
    "                    print('Validation - Input Shape Issue:',inputs.shape)\n",
    "                    continue\n",
    "                val_h = tuple([each.data for each in val_h])\n",
    "                if(train_on_gpu):\n",
    "                \n",
    "                    inputs, labels = inputs.cuda(), labels.cuda()\n",
    "                output, val_h = net(inputs, val_h)\n",
    "                \n",
    "                \n",
    "                val_loss += criterion(output.squeeze(), labels.long())\n",
    "            \n",
    "                \n",
    "                ps = torch.exp(output)\n",
    "                top_p, top_class = ps.topk(1, dim=1)\n",
    "                equals = top_class == labels.view(*top_class.shape).long()\n",
    "                accuracy += torch.mean(equals.type(torch.FloatTensor))\n",
    "                \n",
    "        val_losses.append(val_loss/len(valid_loader))\n",
    "        train_losses.append(running_loss/len(train_loader))\n",
    "\n",
    "\n",
    "        net.train()\n",
    "        print(\"Epoch: {}/{}.. \".format(e+1, epochs),\n",
    "                  \"Training Loss: {:.3f}.. \".format(running_loss/len(train_loader)),\n",
    "                  \"Test Loss: {:.3f}.. \".format(val_loss/len(valid_loader)),\n",
    "                  \"Test Accuracy: {:.3f}\".format(accuracy/len(test_loader)))\n",
    "        \n",
    "        # save model if validation loss has decreased\n",
    "        if val_loss <= val_loss_min:\n",
    "            print('Validation loss decreased ({:.6f} --> {:.6f}).  Saving model ...'.format(\n",
    "            val_loss_min,\n",
    "            val_loss))\n",
    "            torch.save(net.state_dict(), 'model.pt')\n",
    "            val_loss_min = val_loss"
   ]
  },
  {
   "cell_type": "code",
   "execution_count": 31,
   "metadata": {},
   "outputs": [
    {
     "name": "stdout",
     "output_type": "stream",
     "text": [
      "[tensor(1.4803, device='cuda:0', grad_fn=<DivBackward0>), tensor(1.1068, device='cuda:0', grad_fn=<DivBackward0>), tensor(0.5383, device='cuda:0', grad_fn=<DivBackward0>), tensor(0.2139, device='cuda:0', grad_fn=<DivBackward0>), tensor(0.0982, device='cuda:0', grad_fn=<DivBackward0>), tensor(0.0315, device='cuda:0', grad_fn=<DivBackward0>), tensor(0.0070, device='cuda:0', grad_fn=<DivBackward0>), tensor(0.0028, device='cuda:0', grad_fn=<DivBackward0>), tensor(0.0006, device='cuda:0', grad_fn=<DivBackward0>), tensor(0.0003, device='cuda:0', grad_fn=<DivBackward0>), tensor(0.0002, device='cuda:0', grad_fn=<DivBackward0>), tensor(0.0001, device='cuda:0', grad_fn=<DivBackward0>), tensor(0.0001, device='cuda:0', grad_fn=<DivBackward0>), tensor(9.8674e-05, device='cuda:0', grad_fn=<DivBackward0>), tensor(8.2131e-05, device='cuda:0', grad_fn=<DivBackward0>), tensor(7.0070e-05, device='cuda:0', grad_fn=<DivBackward0>), tensor(5.7513e-05, device='cuda:0', grad_fn=<DivBackward0>), tensor(4.5879e-05, device='cuda:0', grad_fn=<DivBackward0>), tensor(3.7642e-05, device='cuda:0', grad_fn=<DivBackward0>), tensor(3.3697e-05, device='cuda:0', grad_fn=<DivBackward0>), tensor(2.6413e-05, device='cuda:0', grad_fn=<DivBackward0>), tensor(2.3052e-05, device='cuda:0', grad_fn=<DivBackward0>), tensor(1.8828e-05, device='cuda:0', grad_fn=<DivBackward0>), tensor(1.8419e-05, device='cuda:0', grad_fn=<DivBackward0>), tensor(1.3426e-05, device='cuda:0', grad_fn=<DivBackward0>), tensor(1.1564e-05, device='cuda:0', grad_fn=<DivBackward0>), tensor(1.0583e-05, device='cuda:0', grad_fn=<DivBackward0>), tensor(9.2635e-06, device='cuda:0', grad_fn=<DivBackward0>), tensor(6.6290e-06, device='cuda:0', grad_fn=<DivBackward0>), tensor(5.8339e-06, device='cuda:0', grad_fn=<DivBackward0>)]\n",
      "[tensor(1.6946, device='cuda:0'), tensor(1.1327, device='cuda:0'), tensor(0.8001, device='cuda:0'), tensor(0.9104, device='cuda:0'), tensor(0.9463, device='cuda:0'), tensor(0.9550, device='cuda:0'), tensor(0.9871, device='cuda:0'), tensor(1.0209, device='cuda:0'), tensor(1.0382, device='cuda:0'), tensor(1.0414, device='cuda:0'), tensor(1.0445, device='cuda:0'), tensor(1.0408, device='cuda:0'), tensor(1.0742, device='cuda:0'), tensor(1.0625, device='cuda:0'), tensor(1.1211, device='cuda:0'), tensor(1.1134, device='cuda:0'), tensor(1.1442, device='cuda:0'), tensor(1.1564, device='cuda:0'), tensor(1.2018, device='cuda:0'), tensor(1.1830, device='cuda:0'), tensor(1.1261, device='cuda:0'), tensor(1.1933, device='cuda:0'), tensor(1.2190, device='cuda:0'), tensor(1.2134, device='cuda:0'), tensor(1.2397, device='cuda:0'), tensor(1.2562, device='cuda:0'), tensor(1.2741, device='cuda:0'), tensor(1.3017, device='cuda:0'), tensor(1.3145, device='cuda:0'), tensor(1.3526, device='cuda:0')]\n"
     ]
    }
   ],
   "source": [
    "print(train_losses)\n",
    "print(val_losses)"
   ]
  },
  {
   "cell_type": "code",
   "execution_count": 32,
   "metadata": {},
   "outputs": [],
   "source": [
    "%matplotlib inline\n",
    "%config InlineBackend.figure_format = 'retina'\n",
    "\n",
    "import matplotlib.pyplot as plt"
   ]
  },
  {
   "cell_type": "code",
   "execution_count": 33,
   "metadata": {},
   "outputs": [
    {
     "data": {
      "text/plain": [
       "<matplotlib.legend.Legend at 0x19fe55ce4e0>"
      ]
     },
     "execution_count": 33,
     "metadata": {},
     "output_type": "execute_result"
    },
    {
     "data": {
      "image/png": "[encoded data removed]",
      "text/plain": [
       "<Figure size 432x288 with 1 Axes>"
      ]
     },
     "metadata": {
      "image/png": {
       "height": 248,
       "width": 380
      },
      "needs_background": "light"
     },
     "output_type": "display_data"
    }
   ],
   "source": [
    "plt.plot(train_losses, label='Training loss')\n",
    "plt.plot(val_losses, label='Validation loss')\n",
    "plt.legend(frameon=False)"
   ]
  },
  {
   "cell_type": "code",
   "execution_count": 34,
   "metadata": {},
   "outputs": [
    {
     "name": "stdout",
     "output_type": "stream",
     "text": [
      "Validation - Input Shape Issue: torch.Size([4, 200])\n",
      "Test Loss: 1.353..  Test Accuracy: 0.833\n"
     ]
    }
   ],
   "source": [
    "test_loss=0\n",
    "accuracy = 0\n",
    "test_h = net.init_hidden(batch_size)\n",
    "        \n",
    "        \n",
    "with torch.no_grad():\n",
    "    net.eval()\n",
    "    for inputs, labels in test_loader:\n",
    "        \n",
    "        if( (inputs.shape[0],inputs.shape[1]) != (batch_size,seq_length)):\n",
    "            print('Validation - Input Shape Issue:',inputs.shape)\n",
    "            continue\n",
    "        test_h = tuple([each.data for each in val_h])\n",
    "        if(train_on_gpu):\n",
    "            inputs, labels = inputs.cuda(), labels.cuda()\n",
    "            output, test_h = net(inputs, test_h)\n",
    "                \n",
    "                \n",
    "        test_loss += criterion(output.squeeze(), labels.long())\n",
    "            \n",
    "                \n",
    "        ps = torch.exp(output)\n",
    "        top_p, top_class = ps.topk(1, dim=1)\n",
    "        equals = top_class == labels.view(*top_class.shape).long()\n",
    "        accuracy += torch.mean(equals.type(torch.FloatTensor))\n",
    "                \n",
    "\n",
    "print(\"Test Loss: {:.3f}.. \".format(val_loss/len(test_loader)),\n",
    "                \"Test Accuracy: {:.3f}\".format(accuracy/len(test_loader)))\n",
    "            "
   ]
  },
  {
   "cell_type": "code",
   "execution_count": 35,
   "metadata": {},
   "outputs": [],
   "source": [
    "# sport test review\n",
    "test_review = 'halo 2  to to to heralds traffic explosion growing popularity online gaming could spell problems net service firms warns network monitoring company sandvine issued warning following analysis shows traffic xbox game network increased fourfold launch day halo 2 9 november traffic explosion continued december said sandvine service providers need make sure networks cope increasing demands bandwidth well popular singleplayer title halo 2 connected microsoft subscriptionbased broadband network xbox live gamers want play online create clan team take others see well compare surge numbers huge demands bandwidth wakeup call industry must ensure networks cope increases traffic said sandvine chief technology officer marc morin bid cope ease congestion providers increasingly making networks intelligent finding using bandwidth could become common charge people amount bandwidth use explosion xbox live traffic attributed'\n"
   ]
  },
  {
   "cell_type": "code",
   "execution_count": 36,
   "metadata": {},
   "outputs": [
    {
     "name": "stdout",
     "output_type": "stream",
     "text": [
      "[[2111, 292, 11086, 1230, 4690, 585, 2195, 164, 539, 10, 3871, 341, 107, 100, 131, 5719, 367, 2922, 44, 12909, 1418, 1174, 268, 2766, 537, 1230, 1210, 23, 367, 842, 15489, 580, 130, 2111, 292, 1572, 411, 1230, 4690, 1058, 217, 1, 12909, 100, 2630, 117, 19, 559, 452, 2196, 1300, 1984, 3732, 40, 518, 20649, 380, 2111, 292, 3177, 257, 20650, 297, 367, 1210, 479, 1142, 70, 67, 164, 622, 11087, 151, 36, 504, 75, 40, 6451, 3273, 698, 395, 1984, 3732, 12910, 553, 115, 316, 620, 452, 2196, 1647, 1230, 1, 12909, 101, 73, 1510, 4681, 20651, 391, 2196, 2767, 11088, 2630, 1329, 213, 452, 4898, 1157, 180, 3732, 10, 210, 1245, 728, 5, 774, 3732, 63, 4690, 1210, 479, 1230, 5116]]\n"
     ]
    }
   ],
   "source": [
    "from string import punctuation\n",
    "\n",
    "def tokenize_review(test_review):\n",
    "    test_review = test_review.lower() # lowercase\n",
    "    # get rid of punctuation\n",
    "    test_text = ''.join([c for c in test_review if c not in punctuation])\n",
    "    rm_stop_words = [w for w in test_text.split() if w.lower() not in stop_words]\n",
    "    \n",
    "    test_words=' '.join(rm_stop_words)\n",
    "\n",
    "    # splitting by spaces\n",
    "    test_words = test_words.split()\n",
    "\n",
    "    # tokens\n",
    "    test_ints = []\n",
    "    test_ints.append([vocab_to_int[word] for word in test_words])\n",
    "\n",
    "    return test_ints\n",
    "\n",
    "# test code and generate tokenized review\n",
    "test_ints = tokenize_review(test_review)\n",
    "print(test_ints)"
   ]
  },
  {
   "cell_type": "code",
   "execution_count": 37,
   "metadata": {},
   "outputs": [
    {
     "name": "stdout",
     "output_type": "stream",
     "text": [
      "[[    0     0     0     0     0     0     0     0     0     0     0     0\n",
      "      0     0     0     0     0     0     0     0     0     0     0     0\n",
      "      0     0     0     0     0     0     0     0     0     0     0     0\n",
      "      0     0     0     0     0     0     0     0     0     0     0     0\n",
      "      0     0     0     0     0     0     0     0     0     0     0     0\n",
      "      0     0     0     0     0     0     0     0     0     0     0     0\n",
      "      0     0     0     0  2111   292 11086  1230  4690   585  2195   164\n",
      "    539    10  3871   341   107   100   131  5719   367  2922    44 12909\n",
      "   1418  1174   268  2766   537  1230  1210    23   367   842 15489   580\n",
      "    130  2111   292  1572   411  1230  4690  1058   217     1 12909   100\n",
      "   2630   117    19   559   452  2196  1300  1984  3732    40   518 20649\n",
      "    380  2111   292  3177   257 20650   297   367  1210   479  1142    70\n",
      "     67   164   622 11087   151    36   504    75    40  6451  3273   698\n",
      "    395  1984  3732 12910   553   115   316   620   452  2196  1647  1230\n",
      "      1 12909   101    73  1510  4681 20651   391  2196  2767 11088  2630\n",
      "   1329   213   452  4898  1157   180  3732    10   210  1245   728     5\n",
      "    774  3732    63  4690  1210   479  1230  5116]]\n"
     ]
    }
   ],
   "source": [
    "# test sequence padding\n",
    "seq_length=200\n",
    "features = pad_features(test_ints, seq_length)\n",
    "\n",
    "print(features)"
   ]
  },
  {
   "cell_type": "code",
   "execution_count": 38,
   "metadata": {},
   "outputs": [
    {
     "name": "stdout",
     "output_type": "stream",
     "text": [
      "torch.Size([1, 200])\n"
     ]
    }
   ],
   "source": [
    "# test conversion to tensor and pass into your model\n",
    "feature_tensor = torch.from_numpy(features)\n",
    "print(feature_tensor.size())"
   ]
  },
  {
   "cell_type": "code",
   "execution_count": 39,
   "metadata": {},
   "outputs": [],
   "source": [
    "def predict(net, test_review, sequence_length=200):\n",
    "    \n",
    "    net.eval()\n",
    "    \n",
    "    # tokenize review\n",
    "    test_ints = tokenize_review(test_review)\n",
    "    \n",
    "    # pad tokenized sequence\n",
    "    seq_length=sequence_length\n",
    "    features = pad_features(test_ints, seq_length)\n",
    "    \n",
    "    # convert to tensor to pass into your model\n",
    "    feature_tensor = torch.from_numpy(features)\n",
    "    \n",
    "    batch_size = feature_tensor.size(0)\n",
    "    \n",
    "    # initialize hidden state\n",
    "    h = net.init_hidden(batch_size)\n",
    "    \n",
    "    if(train_on_gpu):\n",
    "        feature_tensor = feature_tensor.cuda()\n",
    "    \n",
    "    # get the output from the model\n",
    "    output, h = net(feature_tensor, h)\n",
    "    ps = torch.exp(output)\n",
    "    \n",
    "    # convert output probabilities to predicted class (0 or 1)\n",
    "    pred = torch.round(ps.squeeze()) \n",
    "    top_p, pred = ps.topk(1, dim=1)\n",
    "    # printing output value, before rounding\n",
    "    print('Prediction value, pre-rounding: {:.6f}'.format(top_p.item()))\n",
    "    \n",
    "    # print custom response\n",
    "    if (pred.item()==0):\n",
    "        print(\"sports\")\n",
    "    elif(pred.item()==1) :\n",
    "        print(\"business\")\n",
    "    elif(pred.item()==2) :\n",
    "        print(\"politics\")\n",
    "    \n",
    "    elif(pred.item()==3) :\n",
    "        print(\"tech\")\n",
    "        \n",
    "    else :print(\"Entertainment\")\n",
    "        "
   ]
  },
  {
   "cell_type": "code",
   "execution_count": 44,
   "metadata": {},
   "outputs": [],
   "source": [
    "# positive test review\n",
    "business_text = 'crude oil prices back above $50 cold weather across parts of the united states and much of europe has pushed us crude oil prices above $50 a barrel for the first time in almost three months.  freezing temperatures and heavy snowfall have increased demand for heating fuel in the us  where stocks are low. fresh falls in the value of the dollar helped carry prices above the $50 mark for the first time since november. a barrel of us crude oil closed up $2.80 to $51.15 in new york on tuesday. opec members said on tuesday that it saw no reason to cut its output.  although below last year s peak of $55.67 a barrel  which was reached in october  prices are now well above 2004 s average of $41.48.  brent crude also rose in london trading  adding $1.89 to $48.62 at the close. much of western europe and the north east of america has been shivering under unseasonably low temperatures in recent days. the decline in the us dollar to a five-week low against the euro has also served to inflate prices.  the dollar moved sharply overnight and oil is following it   said chris furness  senior market strategist at 4cast.  if the dollar continues to weaken  oil will be obviously higher.   several opec members said a cut in production was unlikely  citing rising prices and strong demand for oil from asia.  i agree that we do not need to cut supply if the prices are as much as this   fathi bin shatwan  libya s oil minister  told reuters.  i do not think we need to cut unless the prices are falling below $35 a barrel   he added. opec closely watches global stocks to ensure that there is not an excessive supply in the market. the arrival of spring in the northern hemisphere will focus attention on stockpiles of us crude and gasoline  which are up to 9% higher than at this time last year. heavy stockpiles could help force prices lower when demand eases'\n",
    "tech_text='tv future in the hands of viewers with home theatre systems  plasma high-definition tvs  and digital video recorders moving into the living room  the way people watch tv will be radically different in five years  time.  that is according to an expert panel which gathered at the annual consumer electronics show in las vegas to discuss how these new technologies will impact one of our favourite pastimes. with the us leading the trend  programmes and other content will be delivered to viewers via home networks  through cable  satellite  telecoms companies  and broadband service providers to front rooms and portable devices.  one of the most talked-about technologies of ces has been digital and personal video recorders (dvr and pvr). these set-top boxes  like the us s tivo and the uk s sky+ system  allow people to record  store  play  pause and forward wind tv programmes when they want.  essentially  the technology allows for much more personalised tv. they are also being built-in to high-definition tv sets  which are big business in japan and the us  but slower to take off in europe because of the lack of high-definition programming. not only can people forward wind through adverts  they can also forget about abiding by network and channel schedules  putting together their own a-la-carte entertainment. but some us networks and cable and satellite companies are worried about what it means for them in terms of advertising revenues as well as  brand identity  and viewer loyalty to channels. although the us leads in this technology at the moment  it is also a concern that is being raised in europe  particularly with the growing uptake of services like sky+.  what happens here today  we will see in nine months to a years  time in the uk   adam hume  the bbc broadcast s futurologist told the bbc news website. for the likes of the bbc  there are no issues of lost advertising revenue yet. it is a more pressing issue at the moment for commercial uk broadcasters  but brand loyalty is important for everyone.  we will be talking more about content brands rather than network brands   said tim hanlon  from brand communications firm starcom mediavest.  the reality is that with broadband connections  anybody can be the producer of content.  he added:  the challenge now is that it is hard to promote a programme with so much choice.   what this means  said stacey jolna  senior vice president of tv guide tv group  is that the way people find the content they want to watch has to be simplified for tv viewers. it means that networks  in us terms  or channels could take a leaf out of google s book and be the search engine of the future  instead of the scheduler to help people find what they want to watch. this kind of channel model might work for the younger ipod generation which is used to taking control of their gadgets and what they play on them. but it might not suit everyone  the panel recognised. older generations are more comfortable with familiar schedules and channel brands because they know what they are getting. they perhaps do not want so much of the choice put into their hands  mr hanlon suggested.  on the other end  you have the kids just out of diapers who are pushing buttons already - everything is possible and available to them   said mr hanlon.  ultimately  the consumer will tell the market they want.   of the 50 000 new gadgets and technologies being showcased at ces  many of them are about enhancing the tv-watching experience. high-definition tv sets'\n",
    "sports_text='tigers wary of farrell  gamble  leicester say they will not be rushed into making a bid for andy farrell should the great britain rugby league captain decide to switch codes.   we and anybody else involved in the process are still some way away from going to the next stage   tigers boss john wells told bbc radio leicester.  at the moment  there are still a lot of unknowns about andy farrell  not least his medical situation.  whoever does take him on is going to take a big  big gamble.  farrell  who has had persistent knee problems  had an operation on his knee five weeks ago and is expected to be out for another three months. leicester and saracens are believed to head the list of rugby union clubs interested in signing farrell if he decides to move to the 15-man game.  if he does move across to union  wells believes he would better off playing in the backs  at least initially.  i m sure he could make the step between league and union by being involved in the centre   said wells.  i think england would prefer him to progress to a position in the back row where they can make use of some of his rugby league skills within the forwards.  the jury is out on whether he can cross that divide.  at this club  the balance will have to be struck between the cost of that gamble and the option of bringing in a ready-made replacement'\n",
    "entertainment_text='rem announce new glasgow concert us band rem have announced plans to perform for 10 000 scottish fans in a rescheduled gig.  the band will play in what has been dubbed europe s biggest tent on glasgow green on tuesday  14 june. they were forced to pull out of a concert at the secc in glasgow last month after bassist mike mills contracted flu. fans who bought tickets for the original 22 february show can attend the rescheduled concert. the june gig will act as a warm-up for rem s open air concert at balloch castle country park  on the banks of loch lomond  four days later.  promoters regular music booked glasgow green as the secc was not available on the most suitable date. mark mackie  director of regular music  said:  it is fantastic news and it really shows rem s commitment to their scottish fans that they are coming back to glasgow for what will be a truly unique gig.  the rem gigs will kick-start what promises to be a memorable summer for scottish music lovers.  grammy award winners u2 will play hampden on 21 june while oasis will also perform at the national stadium in glasgow on 29 june. coldplay have announced a concert at bellahouston park in glasgow on 1 july and t in the park will be held at balado  near kinross  from 9-10 july. ticketweb and the secc box office will write to customers who bought tickets for the february gig asking if they want to attend the new show. those who bought tickets'\n",
    "politics_text='teens  know little  of politics teenagers questioned for a survey have shown little interest in politics - and have little knowledge.  only a quarter of 14-16 year olds knew that labour was the government  the tories were the official opposition and the lib dems were the third party. almost all could identify tony blair  but only one in six knew who michael howard was  and just one in 10 recognised charles kennedy. the icm survey interviewed 110 pupils for education watchdog ofsted. nearly half those pupils polled said it was not important for them to know more about what the political parties stand for. and 4% of those questioned thought the conservatives were in power - while 2% of them believed the lib dems were. the survey also looked at issues of nationality. it found the union flag and fish and chips topped the list of symbols and foods associated with being british. many of the pupils also looked on themselves as english  scottish or welsh  rather than british; while the notion of being european hardly occurred to anyone'\n"
   ]
  },
  {
   "cell_type": "code",
   "execution_count": 45,
   "metadata": {},
   "outputs": [
    {
     "name": "stdout",
     "output_type": "stream",
     "text": [
      "Prediction value, pre-rounding: 0.999999\n",
      "business\n",
      "None \n",
      "\n",
      "Prediction value, pre-rounding: 0.999986\n",
      "tech\n",
      "None \n",
      "\n",
      "Prediction value, pre-rounding: 0.999998\n",
      "sports\n",
      "None \n",
      "\n",
      "Prediction value, pre-rounding: 0.999998\n",
      "Entertainment\n",
      "None \n",
      "\n",
      "Prediction value, pre-rounding: 0.999997\n",
      "politics\n",
      "None \n",
      "\n"
     ]
    }
   ],
   "source": [
    "# call function\n",
    "seq_length=200 # good to use the length that was trained on\n",
    "\n",
    "print(predict(net,business_text, seq_length),'\\n')\n",
    "\n",
    "print(predict(net,tech_text, seq_length),'\\n')\n",
    "print(predict(net,sports_text, seq_length),'\\n')\n",
    "print(predict(net,entertainment_text, seq_length),'\\n')\n",
    "print(predict(net,politics_text, seq_length),'\\n')\n"
   ]
  },
  {
   "cell_type": "markdown",
   "metadata": {},
   "source": [
    "THANK YOU !"
   ]
  },
  {
   "cell_type": "code",
   "execution_count": null,
   "metadata": {},
   "outputs": [],
   "source": []
  },
  {
   "cell_type": "code",
   "execution_count": null,
   "metadata": {},
   "outputs": [],
   "source": []
  }
 ],
 "metadata": {
  "kernelspec": {
   "display_name": "Python 3",
   "language": "python",
   "name": "python3"
  },
  "language_info": {
   "codemirror_mode": {
    "name": "ipython",
    "version": 3
   },
   "file_extension": ".py",
   "mimetype": "text/x-python",
   "name": "python",
   "nbconvert_exporter": "python",
   "pygments_lexer": "ipython3",
   "version": "3.7.3"
  }
 },
 "nbformat": 4,
 "nbformat_minor": 2
}
